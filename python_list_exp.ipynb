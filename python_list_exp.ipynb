{
 "cells": [
  {
   "cell_type": "code",
   "execution_count": 10,
   "metadata": {},
   "outputs": [],
   "source": [
    "# empty list\n",
    "myList1 = []\n",
    "\n",
    "# list with integers\n",
    "myList2 = [1,2,3,4,5]\n",
    "\n",
    "# list with mixed datatypes\n",
    "myList3 = [53834,'samba','CHN']\n",
    "\n",
    "# nested list\n",
    "myList4 = ['mouse',4,[1,2,3],[538345,'sam']]"
   ]
  },
  {
   "cell_type": "markdown",
   "metadata": {},
   "source": [
    "### Access list"
   ]
  },
  {
   "cell_type": "code",
   "execution_count": 15,
   "metadata": {},
   "outputs": [
    {
     "data": {
      "text/plain": [
       "3"
      ]
     },
     "execution_count": 15,
     "metadata": {},
     "output_type": "execute_result"
    }
   ],
   "source": [
    "# access list\n",
    "myList2[0]\n",
    "myList2[-1]\n",
    "\n",
    "# Nested List\n",
    "myList4[2][2]"
   ]
  },
  {
   "cell_type": "markdown",
   "metadata": {},
   "source": [
    "### Error"
   ]
  },
  {
   "cell_type": "code",
   "execution_count": null,
   "metadata": {},
   "outputs": [],
   "source": [
    "myList[2.5] # TypeError\n",
    "myList[6] # IndexError"
   ]
  },
  {
   "cell_type": "markdown",
   "metadata": {},
   "source": [
    "### Slice lists in Python\n",
    "### sliced_list = List_Name[startIndex:endIndex"
   ]
  },
  {
   "cell_type": "code",
   "execution_count": null,
   "metadata": {},
   "outputs": [],
   "source": [
    "myList1[:]\n",
    "myList2[2:]\n",
    "myList2[2:4]\n",
    "myList3[:5]\n",
    "myList[:-4]"
   ]
  },
  {
   "cell_type": "code",
   "execution_count": 19,
   "metadata": {},
   "outputs": [
    {
     "data": {
      "text/plain": [
       "[1, 2, 3]"
      ]
     },
     "execution_count": 19,
     "metadata": {},
     "output_type": "execute_result"
    }
   ],
   "source": [
    "myList2[:-2]"
   ]
  },
  {
   "cell_type": "code",
   "execution_count": null,
   "metadata": {},
   "outputs": [],
   "source": [
    "# mistake values\n",
    "odd = [2, 4, 6, 8]\n",
    "\n",
    "# change the 1st item    \n",
    "odd[0] = 1        \n",
    "\n",
    "# Output: [1, 4, 6, 8]\n",
    "print(odd)\n",
    "\n",
    "# change 2nd to 4th items\n",
    "odd[1:4] = [3, 5, 7]  \n",
    "\n",
    "# Output: [1, 3, 5, 7]\n",
    "print(odd)         "
   ]
  },
  {
   "cell_type": "markdown",
   "metadata": {},
   "source": [
    "### + concatenation of two lists and use\n",
    "### * operator to repeat a list"
   ]
  },
  {
   "cell_type": "code",
   "execution_count": null,
   "metadata": {},
   "outputs": [],
   "source": [
    "color_list = color_list1 + color_list2 + color_list3\n",
    "\n",
    "numbers[0]*4\n",
    "numbers*4"
   ]
  },
  {
   "cell_type": "markdown",
   "metadata": {},
   "source": [
    "### delete list"
   ]
  },
  {
   "cell_type": "code",
   "execution_count": null,
   "metadata": {},
   "outputs": [],
   "source": [
    "del myList[1]\n",
    "del myList[2:4]\n",
    "del myList\n",
    "my_list[2:3] = [] # we can also delete items in a list by assigning an empty list to a slice of elements"
   ]
  },
  {
   "cell_type": "code",
   "execution_count": null,
   "metadata": {},
   "outputs": [],
   "source": [
    "# append()\n",
    "# extend()\n",
    "# insert()\n",
    "# remove('') - should pass valueor element\n",
    "# pop() - should pass index else remove last element\n",
    "# clear()\n",
    "# index()\n",
    "# count()\n",
    "# sort()\n",
    "# reverse()\n",
    "# copy()"
   ]
  },
  {
   "cell_type": "code",
   "execution_count": null,
   "metadata": {},
   "outputs": [],
   "source": [
    "pow2 = [2 ** x for x in range(10)]\n",
    "pow2 = [2 ** x for x in range(10) if x > 5]\n",
    "odd = [x for x in range(20) if x % 2 == 1]\n",
    "[x+y for x in ['Python ','C '] for y in ['Language','Programming']]"
   ]
  },
  {
   "cell_type": "code",
   "execution_count": null,
   "metadata": {},
   "outputs": [],
   "source": [
    "pow2 = []\n",
    "for x in range(10):\n",
    "    pow2.append(2 ** x)"
   ]
  },
  {
   "cell_type": "markdown",
   "metadata": {},
   "source": [
    "### List Membership Test"
   ]
  },
  {
   "cell_type": "code",
   "execution_count": null,
   "metadata": {},
   "outputs": [],
   "source": [
    "my_list = ['p','r','o','b','l','e','m']\n",
    "\n",
    "# Output: True\n",
    "print('p' in my_list)\n",
    "\n",
    "# Output: False\n",
    "print('a' in my_list)\n",
    "\n",
    "# Output: True\n",
    "print('c' not in my_list)"
   ]
  },
  {
   "cell_type": "markdown",
   "metadata": {},
   "source": [
    "### iterate list"
   ]
  },
  {
   "cell_type": "code",
   "execution_count": null,
   "metadata": {},
   "outputs": [],
   "source": [
    "for fruit in ['apple','banana','mango']:\n",
    "    print(\"I like\",fruit)"
   ]
  }
 ],
 "metadata": {
  "kernelspec": {
   "display_name": "Python 3",
   "language": "python",
   "name": "python3"
  },
  "language_info": {
   "codemirror_mode": {
    "name": "ipython",
    "version": 3
   },
   "file_extension": ".py",
   "mimetype": "text/x-python",
   "name": "python",
   "nbconvert_exporter": "python",
   "pygments_lexer": "ipython3",
   "version": "3.7.4"
  }
 },
 "nbformat": 4,
 "nbformat_minor": 2
}
