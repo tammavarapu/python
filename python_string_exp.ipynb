{
 "cells": [
  {
   "cell_type": "markdown",
   "metadata": {},
   "source": [
    "## Python String Class"
   ]
  },
  {
   "cell_type": "code",
   "execution_count": 35,
   "metadata": {},
   "outputs": [
    {
     "name": "stdout",
     "output_type": "stream",
     "text": [
      "<class 'str'>\n"
     ]
    }
   ],
   "source": [
    "print(type('python'))"
   ]
  },
  {
   "cell_type": "markdown",
   "metadata": {},
   "source": [
    "##  Declare Python String"
   ]
  },
  {
   "cell_type": "code",
   "execution_count": 57,
   "metadata": {},
   "outputs": [],
   "source": [
    "singlequote = 'python learning'\n",
    "doublequote = \"machine learning\"\n",
    "mychar = 'a' # a character"
   ]
  },
  {
   "cell_type": "markdown",
   "metadata": {},
   "source": [
    "## Use Quotes inside Python String"
   ]
  },
  {
   "cell_type": "code",
   "execution_count": 36,
   "metadata": {},
   "outputs": [],
   "source": [
    "s1 = \"I read the article, 'A Poor Woman's Journey.'\"\n",
    "s2 = 'dir \"c:\\&temp\\*.sas\" /o:n /b > \"c:\\&temp\\abc.txt\"'"
   ]
  },
  {
   "cell_type": "markdown",
   "metadata": {},
   "source": [
    "## Spanning a String Across Lines"
   ]
  },
  {
   "cell_type": "code",
   "execution_count": null,
   "metadata": {},
   "outputs": [],
   "source": [
    "s = '''Hello\n",
    "        Welcome to learning\n",
    "        Python programing language'''"
   ]
  },
  {
   "cell_type": "markdown",
   "metadata": {},
   "source": [
    "### Raw String (r/R)\n",
    "#### We can use it to ignore the actual meaning of Escape characters inside a string. For this, we add ‘r’ or ‘R’ in front of the String."
   ]
  },
  {
   "cell_type": "code",
   "execution_count": 81,
   "metadata": {},
   "outputs": [
    {
     "name": "stdout",
     "output_type": "stream",
     "text": [
      "\\n\n",
      "\\n\n"
     ]
    }
   ],
   "source": [
    "# example\n",
    "print (r'\\n')\n",
    "# \\n\n",
    "print (R'\\n')\n",
    "# \\n"
   ]
  },
  {
   "cell_type": "code",
   "execution_count": null,
   "metadata": {},
   "outputs": [],
   "source": [
    "String_var1 = r\"\"\" This document will help you to \\n\n",
    "explore all the concepts\n",
    "of Python Strings!!! \"\"\"\n",
    "\n",
    "String_var2 = R\"\"\" This document will help you to \\n\n",
    "explore all the concepts\n",
    "of Python Strings!!! \"\"\"\n",
    "\n",
    "print(String_var1)\n",
    "print(String_var2)"
   ]
  },
  {
   "cell_type": "markdown",
   "metadata": {},
   "source": [
    "### By default, print() function prints string with a newline, we change this behavior by passing named keyword argument called end as follows."
   ]
  },
  {
   "cell_type": "code",
   "execution_count": null,
   "metadata": {},
   "outputs": [],
   "source": [
    "print(\"my string\", end=\"\\n\")  #this is default behavior\n",
    "print(\"my string\", end=\"\")    # print string without a newline\n",
    "print(\"my string\", end=\"foo\")  # now print() will print foo after every string"
   ]
  },
  {
   "cell_type": "markdown",
   "metadata": {},
   "source": [
    "## Con't deleate and update"
   ]
  },
  {
   "cell_type": "code",
   "execution_count": null,
   "metadata": {},
   "outputs": [],
   "source": [
    "# Con't deleate and update a string but use build-in function del to remove string.\n",
    "str_name='python'\n",
    "\n",
    "del str_name[1] # TypeError: 'str' object doesn't support item deletion\n",
    "\n",
    "del str_name"
   ]
  },
  {
   "cell_type": "markdown",
   "metadata": {},
   "source": [
    "## Access a string"
   ]
  },
  {
   "cell_type": "code",
   "execution_count": 28,
   "metadata": {},
   "outputs": [
    {
     "data": {
      "text/plain": [
       "'n'"
      ]
     },
     "execution_count": 28,
     "metadata": {},
     "output_type": "execute_result"
    }
   ],
   "source": [
    "a = \"Python string\"\n",
    "b = a[2]\n",
    "b = a[4+3]\n",
    "a[-2]"
   ]
  },
  {
   "cell_type": "markdown",
   "metadata": {},
   "source": [
    "## ERROR - TypeError"
   ]
  },
  {
   "cell_type": "code",
   "execution_count": 26,
   "metadata": {},
   "outputs": [
    {
     "ename": "TypeError",
     "evalue": "string indices must be integers",
     "output_type": "error",
     "traceback": [
      "\u001b[0;31m---------------------------------------------------------------------------\u001b[0m",
      "\u001b[0;31mTypeError\u001b[0m                                 Traceback (most recent call last)",
      "\u001b[0;32m<ipython-input-26-ee1ef659c21e>\u001b[0m in \u001b[0;36m<module>\u001b[0;34m()\u001b[0m\n\u001b[0;32m----> 1\u001b[0;31m \u001b[0ma\u001b[0m\u001b[0;34m[\u001b[0m\u001b[0;36m2.3\u001b[0m\u001b[0;34m]\u001b[0m\u001b[0;34m\u001b[0m\u001b[0m\n\u001b[0m",
      "\u001b[0;31mTypeError\u001b[0m: string indices must be integers"
     ]
    }
   ],
   "source": [
    "a[2.3]"
   ]
  },
  {
   "cell_type": "markdown",
   "metadata": {},
   "source": [
    "## Python strings are immutable\n",
    "\n",
    "- Python strings are \"immutable\" which means they cannot be changed after they are created\n",
    "- Therefore we can not use [ ] operator on the left side of an assignment.\n",
    "- We can create a new string that is a variation of the original."
   ]
  },
  {
   "cell_type": "code",
   "execution_count": null,
   "metadata": {},
   "outputs": [],
   "source": [
    "str1 = \"welcome\"\n",
    "str2 = \"welcome\""
   ]
  },
  {
   "cell_type": "markdown",
   "metadata": {},
   "source": [
    "### Here str1 and str2 refer to the same string object \"welcome\"  which is stored somewhere in memory. You can test whether str1 refers to same object as str2 using the id() function"
   ]
  },
  {
   "cell_type": "code",
   "execution_count": null,
   "metadata": {},
   "outputs": [],
   "source": [
    "id(str1) # 78965411\n",
    "id(str2) # 78965411"
   ]
  },
  {
   "cell_type": "markdown",
   "metadata": {},
   "source": [
    "### As both str1  and str2  points to the same memory location, hence they both point to the same object"
   ]
  },
  {
   "cell_type": "markdown",
   "metadata": {},
   "source": [
    "## ERROR - TypeError"
   ]
  },
  {
   "cell_type": "code",
   "execution_count": 38,
   "metadata": {},
   "outputs": [
    {
     "ename": "TypeError",
     "evalue": "'str' object does not support item assignment",
     "output_type": "error",
     "traceback": [
      "\u001b[0;31m---------------------------------------------------------------------------\u001b[0m",
      "\u001b[0;31mTypeError\u001b[0m                                 Traceback (most recent call last)",
      "\u001b[0;32m<ipython-input-38-071a362ff26c>\u001b[0m in \u001b[0;36m<module>\u001b[0;34m()\u001b[0m\n\u001b[1;32m      1\u001b[0m \u001b[0ma\u001b[0m \u001b[0;34m=\u001b[0m \u001b[0;34m\"Python string\"\u001b[0m\u001b[0;34m\u001b[0m\u001b[0m\n\u001b[0;32m----> 2\u001b[0;31m \u001b[0ma\u001b[0m\u001b[0;34m[\u001b[0m\u001b[0;36m0\u001b[0m\u001b[0;34m]\u001b[0m \u001b[0;34m=\u001b[0m \u001b[0;34m'S'\u001b[0m\u001b[0;34m\u001b[0m\u001b[0m\n\u001b[0m\u001b[1;32m      3\u001b[0m \u001b[0ma\u001b[0m\u001b[0;34m\u001b[0m\u001b[0m\n",
      "\u001b[0;31mTypeError\u001b[0m: 'str' object does not support item assignment"
     ]
    }
   ],
   "source": [
    "a = \"Python string\"\n",
    "a[0] = 'S'\n",
    "a"
   ]
  },
  {
   "cell_type": "markdown",
   "metadata": {},
   "source": [
    "## Concatenate string\n",
    "###  The + operator is used to concatenate string"
   ]
  },
  {
   "cell_type": "code",
   "execution_count": 39,
   "metadata": {},
   "outputs": [
    {
     "name": "stdout",
     "output_type": "stream",
     "text": [
      "Bfter Concatenate string value :  Python string\n",
      "After Concatenate string value :  Xython string\n"
     ]
    }
   ],
   "source": [
    "# Concatenates a new first letter on to a slice of greeting.\n",
    "# It has no effect on the original string.\n",
    "b = \"X\" + a[1:]\n",
    "print(\"Bfter Concatenate string value : \",a)\n",
    "print(\"After Concatenate string value : \",b)"
   ]
  },
  {
   "cell_type": "code",
   "execution_count": 40,
   "metadata": {},
   "outputs": [
    {
     "data": {
      "text/plain": [
       "'Do you see this, $$?'"
      ]
     },
     "execution_count": 40,
     "metadata": {},
     "output_type": "execute_result"
    }
   ],
   "source": [
    "a='Do you see this, '\n",
    "b='$$?'\n",
    "a + b "
   ]
  },
  {
   "cell_type": "markdown",
   "metadata": {},
   "source": [
    "### The * operator is a repetition operator for string "
   ]
  },
  {
   "cell_type": "code",
   "execution_count": 41,
   "metadata": {},
   "outputs": [
    {
     "name": "stdout",
     "output_type": "stream",
     "text": [
      "1010\n"
     ]
    }
   ],
   "source": [
    "a='10'\n",
    "print(2*a)"
   ]
  },
  {
   "cell_type": "markdown",
   "metadata": {},
   "source": [
    "## TypeError "
   ]
  },
  {
   "cell_type": "code",
   "execution_count": 42,
   "metadata": {},
   "outputs": [
    {
     "ename": "TypeError",
     "evalue": "must be str, not int",
     "output_type": "error",
     "traceback": [
      "\u001b[0;31m---------------------------------------------------------------------------\u001b[0m",
      "\u001b[0;31mTypeError\u001b[0m                                 Traceback (most recent call last)",
      "\u001b[0;32m<ipython-input-42-8ab8997e4023>\u001b[0m in \u001b[0;36m<module>\u001b[0;34m()\u001b[0m\n\u001b[0;32m----> 1\u001b[0;31m \u001b[0;34m'10'\u001b[0m\u001b[0;34m+\u001b[0m\u001b[0;36m10\u001b[0m\u001b[0;34m\u001b[0m\u001b[0m\n\u001b[0m",
      "\u001b[0;31mTypeError\u001b[0m: must be str, not int"
     ]
    }
   ],
   "source": [
    "'10'+10"
   ]
  },
  {
   "cell_type": "markdown",
   "metadata": {},
   "source": [
    "## String Formatters"
   ]
  },
  {
   "cell_type": "code",
   "execution_count": 46,
   "metadata": {},
   "outputs": [
    {
     "name": "stdout",
     "output_type": "stream",
     "text": [
      "Age  :  21 \n",
      "City :  Ahmedabad\n"
     ]
    }
   ],
   "source": [
    "city='Ahmedabad'\n",
    "print(\"Age  : \",21,\"\\nCity : \",city)"
   ]
  },
  {
   "cell_type": "markdown",
   "metadata": {},
   "source": [
    "### i)  f-strings"
   ]
  },
  {
   "cell_type": "code",
   "execution_count": 59,
   "metadata": {},
   "outputs": [
    {
     "name": "stdout",
     "output_type": "stream",
     "text": [
      "It isn't Ayushi's birthday\n"
     ]
    }
   ],
   "source": [
    "name='Ayushi'\n",
    "print(f\"It isn't {name}'s birthday\")"
   ]
  },
  {
   "cell_type": "markdown",
   "metadata": {},
   "source": [
    "## ii)  format() method"
   ]
  },
  {
   "cell_type": "code",
   "execution_count": null,
   "metadata": {},
   "outputs": [],
   "source": [
    "\"{} {} {}\".format('Geeks', 'For', 'Life')\n",
    "\"{1} {0} {2}\".format('Geeks', 'For', 'Life')\n",
    "\"{l} {f} {g}\".format(g = 'Geeks', f = 'For', l = 'Life')\n",
    "\"{0:b}\".format(16) # Formatting of Integers\n",
    "\"{0:e}\".format(165.6458) # Formatting of Floating\n",
    "\"{0:.2f}\".format(1/6) #  Rounding off Integers "
   ]
  },
  {
   "cell_type": "code",
   "execution_count": null,
   "metadata": {},
   "outputs": [],
   "source": [
    "print(\"I love {0}\".format(a))\n",
    "print(\"I love {a}\".format(a='cats'))\n",
    "print(\"I love {b}\".format(b='ferrets'))"
   ]
  },
  {
   "cell_type": "markdown",
   "metadata": {},
   "source": [
    "### % operator"
   ]
  },
  {
   "cell_type": "markdown",
   "metadata": {},
   "source": [
    "%c\tcharacter\n",
    "%s\tstring conversion via str() before formatting\n",
    "%i\tsigned decimal integer\n",
    "%d\tsigned decimal integer\n",
    "%u\tunsigned decimal integer\n",
    "%o\toctal integer\n",
    "%x\thexadecimal integer (lowercase letters)\n",
    "%X\thexadecimal integer (UPPER-case letters)\n",
    "%e\texponential notation (with lowercase ‘e’)\n",
    "%E\texponential notation (with UPPER-case ‘E’)\n",
    "%f\tfloating-point real number\n",
    "%g\tthe shorter of %f and %e\n",
    "%G\tthe shorter of %f and %E"
   ]
  },
  {
   "cell_type": "code",
   "execution_count": null,
   "metadata": {},
   "outputs": [],
   "source": [
    "print(\"Python %s %s\" %(str1,str2))\n",
    "print(\"Actual Number = %d\" %15)\n",
    "print(\"Float of the number = %f\" %15)\n",
    "print(\"Exponential equivalent of the number = %e\" %15)\n",
    "print(\"Octal equivalent of the number = %o\" %15)\n",
    "print(\"Hexadecimal equivalent of the number = %x\" %15)"
   ]
  },
  {
   "cell_type": "markdown",
   "metadata": {},
   "source": [
    "### Escape Sequences in Python"
   ]
  },
  {
   "cell_type": "code",
   "execution_count": null,
   "metadata": {},
   "outputs": [],
   "source": [
    "\\\\ \tBackslash (\\)\n",
    "\\' \tSingle-quote (')\n",
    "\\\" \tDouble-quote (\")\n",
    "\\a \tASCII bell (BEL)\n",
    "\\b \tASCII backspace (BS)\n",
    "\\cx or \\Cx \tControl-x\n",
    "\\f \tASCII Form feed (FF)\n",
    "\\n \tASCII linefeed (LF)\n",
    "\\N{name} \tCharacter named name in the Unicode database (Unicode only)\n",
    "\\r \tCarriage Return (CR)\n",
    "\\t \tHorizontal Tab (TAB)\n",
    "\\uxxxx \tA character with 16-bit hex value xxxx (Unicode only)\n",
    "\\Uxxxxxxxx \tA character with 32-bit hex value xxxxxxxx (Unicode only)\n",
    "\\v \tASCII vertical tab (VT)\n",
    "\\ooo \tCharacters with octal value ooo\n",
    "\\xnn \tA character with hex value nn where n can be anything from the range 0-9, a-f or A-F."
   ]
  },
  {
   "cell_type": "markdown",
   "metadata": {},
   "source": [
    "# Python String Functions"
   ]
  },
  {
   "cell_type": "code",
   "execution_count": 52,
   "metadata": {},
   "outputs": [],
   "source": [
    "str = \"Python Machine Learning\""
   ]
  },
  {
   "cell_type": "code",
   "execution_count": 76,
   "metadata": {},
   "outputs": [],
   "source": [
    "# len(str)\n",
    "# name1 = str() # this will create empty string object\n",
    "# str(2+3j) - converts any data type into a string\n",
    "# min(str)\n",
    "# max(str)\n",
    "\n",
    "# str.isupper()\n",
    "# str.islower()\n",
    "# str.upper()\n",
    "# str.lower()\n",
    "# str.swapcase() - lower to upper and upper to lower\n",
    "\n",
    "# str.casefold() - if you're not using non-English characters there's no advantage to \"casefold\"\n",
    "\n",
    "# name.isalpha())\n",
    "# name.isalnum())\n",
    "# sal.isdecimal())\n",
    "# str.isnumeric()\n",
    "# str.isspace()\n",
    "# str.isidentifier()\n",
    "\n",
    "# str.strip()\n",
    "# str.strip('<char>')\n",
    "# str.lstrip()\n",
    "# str.rstrip()\n",
    "\n",
    "# str.title()\n",
    "# str.istitle()\n",
    "# str.capitalize()\n",
    "\n",
    "# str.startswith('python')\n",
    "# str.endswith('learning')\n",
    "# str.find('Python')\n",
    "# str.rfind('Python')\n",
    "\n",
    "# str.replace('Machine','AI')\n",
    "\n",
    "# str.center()\n",
    "\n",
    "# str.ljust()\n",
    "# str.rjust()\n",
    "\n",
    "# str.index('p') \n",
    "\n",
    "# str.split()\n",
    "# str.split(sep='|')\n",
    "# str.splitlines()\n",
    "\n",
    "# str.rpartition('search str') \n",
    "# - searches for the last occurrence of a specified string, and splits the string into a tuple containing three elements.\n",
    "\n",
    "# print(''.join(reversed(name)))\n",
    "# str1.join(str2)\n",
    "# str.count()\n",
    "# str.zfill() - adds zeros (0) at the beginning of the string, until it reaches the specified length\n",
    "\n",
    "# Converts unicode char to int.\n",
    "unicode = '5'\n",
    "unic_code = ord(unicode)\n",
    "#unic_code\n",
    "\n",
    "unichar = 'Z'\n",
    "unic_char = ord(unichar)\n",
    "#unic_char\n",
    "# ord('0'), ord('9')\n",
    "# ord('A'), ord('Z')\n",
    "# ord('a'), ord('z')\n",
    "\n",
    "# Converts int to unicode char.\n",
    "unicode = 5\n",
    "unic_code = chr(unicode)\n",
    "#unic_code"
   ]
  },
  {
   "cell_type": "code",
   "execution_count": null,
   "metadata": {},
   "outputs": [],
   "source": [
    "txt = \"My name is Ståle\"\n",
    "\n",
    "print(txt.encode(encoding=\"ascii\",errors=\"backslashreplace\"))\n",
    "print(txt.encode(encoding=\"ascii\",errors=\"ignore\"))\n",
    "print(txt.encode(encoding=\"ascii\",errors=\"namereplace\"))\n",
    "print(txt.encode(encoding=\"ascii\",errors=\"replace\"))\n",
    "print(txt.encode(encoding=\"ascii\",errors=\"xmlcharrefreplace\"))\n",
    "print(txt.encode(encoding=\"ascii\",errors=\"strict\"))"
   ]
  },
  {
   "cell_type": "code",
   "execution_count": null,
   "metadata": {},
   "outputs": [],
   "source": []
  },
  {
   "cell_type": "markdown",
   "metadata": {},
   "source": [
    "### Python String Operations"
   ]
  },
  {
   "cell_type": "markdown",
   "metadata": {},
   "source": [
    "### i) Comparison\n",
    "####  ==,!=,<, >, <=, >=\n",
    "### str vale comparision use ==,!= (equal to and not equal to)\n",
    "### str obj comparision use ->  is"
   ]
  },
  {
   "cell_type": "code",
   "execution_count": 60,
   "metadata": {},
   "outputs": [
    {
     "data": {
      "text/plain": [
       "True"
      ]
     },
     "execution_count": 60,
     "metadata": {},
     "output_type": "execute_result"
    }
   ],
   "source": [
    "'hey'<'hi'"
   ]
  },
  {
   "cell_type": "markdown",
   "metadata": {},
   "source": [
    "##### Python string comparison is performed using the characters in both strings. The characters in both strings are compared one by one. When different characters are found then their Unicode value is compared. The character with lower Unicode value is considered to be smaller."
   ]
  },
  {
   "cell_type": "markdown",
   "metadata": {},
   "source": [
    "##### Suppose you have str1 as \"Mary\"  and str2 as \"Mac\". The first two characters from str1  and str2 ( M and M ) are compared. As they are equal, the second two characters are compared. Because they are also equal, the third two characters (r and c ) are compared. And because r has greater ASCII value than c, str1 is greater than str2"
   ]
  },
  {
   "cell_type": "code",
   "execution_count": 61,
   "metadata": {},
   "outputs": [
    {
     "name": "stdout",
     "output_type": "stream",
     "text": [
      "True\n",
      "False\n",
      "False\n",
      "False\n",
      "True\n",
      "True\n"
     ]
    }
   ],
   "source": [
    "fruit1 = 'Apple'\n",
    "print(fruit1 == 'Apple') # True\n",
    "print(fruit1 != 'Apple') # False\n",
    "print(fruit1 < 'Apple')  # False\n",
    "print(fruit1 > 'Apple')  # False\n",
    "print(fruit1 <= 'Apple') # True\n",
    "print(fruit1 >= 'Apple') # True"
   ]
  },
  {
   "cell_type": "markdown",
   "metadata": {},
   "source": [
    "### check two strings equality even if the order of words or characters is different then you may first use the sort function and then compare both strings."
   ]
  },
  {
   "cell_type": "code",
   "execution_count": 73,
   "metadata": {},
   "outputs": [
    {
     "name": "stdout",
     "output_type": "stream",
     "text": [
      "Both are same!\n"
     ]
    }
   ],
   "source": [
    "str_a = \"Hello and Welcome\" \n",
    "str_b = \"Welcome and Hello\" \n",
    " \n",
    "if sorted(str_a) == sorted(str_b): \n",
    "    print (\"Both are same!\") \n",
    "else: \n",
    "    print (\"Not Same\")"
   ]
  },
  {
   "cell_type": "code",
   "execution_count": null,
   "metadata": {},
   "outputs": [],
   "source": [
    "a='check'\n",
    "a == 'check'"
   ]
  },
  {
   "cell_type": "code",
   "execution_count": null,
   "metadata": {},
   "outputs": [],
   "source": [
    "'yes'!='no'"
   ]
  },
  {
   "cell_type": "markdown",
   "metadata": {},
   "source": [
    "## ii) Arithmetic"
   ]
  },
  {
   "cell_type": "code",
   "execution_count": null,
   "metadata": {},
   "outputs": [],
   "source": [
    "'ba'+'na'*2"
   ]
  },
  {
   "cell_type": "markdown",
   "metadata": {},
   "source": [
    "## iii) Membership"
   ]
  },
  {
   "cell_type": "code",
   "execution_count": null,
   "metadata": {},
   "outputs": [],
   "source": [
    "'na' in 'banana'\n",
    "'less' not in 'helpless'"
   ]
  },
  {
   "cell_type": "markdown",
   "metadata": {},
   "source": [
    "## iv)  Identity"
   ]
  },
  {
   "cell_type": "code",
   "execution_count": null,
   "metadata": {},
   "outputs": [],
   "source": [
    "'Hey' is 'Hi'\n",
    "'Yo' is not 'yo'"
   ]
  },
  {
   "cell_type": "markdown",
   "metadata": {},
   "source": [
    "## v) Logical"
   ]
  },
  {
   "cell_type": "code",
   "execution_count": null,
   "metadata": {},
   "outputs": [],
   "source": [
    "'' and '1'\n",
    "'1' or ''\n",
    "\n",
    "not('1')\n",
    "not('')"
   ]
  },
  {
   "cell_type": "code",
   "execution_count": 53,
   "metadata": {},
   "outputs": [],
   "source": [
    " s='helloworld'"
   ]
  },
  {
   "cell_type": "code",
   "execution_count": 55,
   "metadata": {},
   "outputs": [
    {
     "name": "stdout",
     "output_type": "stream",
     "text": [
      "dlrowolleh\n"
     ]
    }
   ],
   "source": [
    "print(s[-1::-1])"
   ]
  },
  {
   "cell_type": "markdown",
   "metadata": {},
   "source": [
    "## string representing the date"
   ]
  },
  {
   "cell_type": "code",
   "execution_count": null,
   "metadata": {},
   "outputs": [],
   "source": [
    "from datetime import datetime\n",
    "now = datetime.now()\n",
    "day = now.strftime(\"%a\") \n",
    "print(\"Weekday as locale’s abbreviated name:\", day)"
   ]
  },
  {
   "cell_type": "markdown",
   "metadata": {},
   "source": [
    "## comparision tips"
   ]
  },
  {
   "cell_type": "code",
   "execution_count": null,
   "metadata": {},
   "outputs": [],
   "source": [
    "usually, identity (is) implies equality (==)\n",
    "You use == when comparing values .and is when comparing identities.\n",
    "For all built-in Python objects (like strings, lists, dicts, functions, etc.), if x is y, then x==y is also True.\n",
    "If is applies then == will be True, but it does NOT apply in reverse. == may yield True while is yields False.\n",
    "is implies == is only necessarily true for built-in types. One can easily write a class where an object does not equal itself."
   ]
  },
  {
   "cell_type": "code",
   "execution_count": 63,
   "metadata": {},
   "outputs": [],
   "source": [
    "a = 19998989890\n",
    "b = 19998989889 +1"
   ]
  },
  {
   "cell_type": "code",
   "execution_count": 64,
   "metadata": {},
   "outputs": [
    {
     "data": {
      "text/plain": [
       "False"
      ]
     },
     "execution_count": 64,
     "metadata": {},
     "output_type": "execute_result"
    }
   ],
   "source": [
    "a is b # False\n",
    "a == b # True"
   ]
  },
  {
   "cell_type": "markdown",
   "metadata": {},
   "source": [
    "### Iterating string using loops"
   ]
  },
  {
   "cell_type": "code",
   "execution_count": 80,
   "metadata": {},
   "outputs": [
    {
     "name": "stdout",
     "output_type": "stream",
     "text": [
      "hello"
     ]
    }
   ],
   "source": [
    "s = \"hello\"\n",
    "for i in s:\n",
    "    print(i, end=\"\")"
   ]
  }
 ],
 "metadata": {
  "kernelspec": {
   "display_name": "Python 3",
   "language": "python",
   "name": "python3"
  },
  "language_info": {
   "codemirror_mode": {
    "name": "ipython",
    "version": 3
   },
   "file_extension": ".py",
   "mimetype": "text/x-python",
   "name": "python",
   "nbconvert_exporter": "python",
   "pygments_lexer": "ipython3",
   "version": "3.6.5"
  }
 },
 "nbformat": 4,
 "nbformat_minor": 2
}
